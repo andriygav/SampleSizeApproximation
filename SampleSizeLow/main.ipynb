{
 "cells": [
  {
   "cell_type": "code",
   "execution_count": null,
   "metadata": {},
   "outputs": [],
   "source": [
    "import numpy as np\n",
    "import pandas as pd\n",
    "from sklearn.preprocessing import scale\n",
    "import matplotlib.pyplot as plt\n",
    "import utils as ut\n",
    "import m_models as mm\n",
    "import os\n",
    "from tqdm import tqdm_notebook as tqdm\n",
    "\n",
    "import pylab\n",
    "\n",
    "import statsmodels.api as sm\n",
    "\n",
    "import scipy.stats as sps\n",
    "from scipy.optimize import minimize_scalar as minimize_scalar\n",
    "\n",
    "import pickle\n",
    "\n",
    "%load_ext autoreload\n",
    "%autoreload 2"
   ]
  },
  {
   "cell_type": "code",
   "execution_count": null,
   "metadata": {},
   "outputs": [],
   "source": [
    "plt.rcParams['lines.linewidth'] = 3\n",
    "plt.rcParams['lines.markersize'] = 12\n",
    "plt.rcParams['xtick.labelsize'] = 24\n",
    "plt.rcParams['ytick.labelsize'] = 24\n",
    "plt.rcParams['legend.fontsize'] = 40\n",
    "plt.rcParams['axes.titlesize']=36\n",
    "plt.rcParams['axes.labelsize']=40\n",
    "plt.rcParams['figure.figsize'] = (24.0, 12.0)\n",
    "plt.rcParams['font.size'] = 40"
   ]
  },
  {
   "cell_type": "code",
   "execution_count": null,
   "metadata": {},
   "outputs": [],
   "source": [
    "X, y = ut.DataLoader(name = 'boston')\n",
    "X, y = ut.preprocess(X, y)"
   ]
  },
  {
   "cell_type": "code",
   "execution_count": null,
   "metadata": {},
   "outputs": [],
   "source": [
    "real_data = mm.ALC(X, y, progress_bar=lambda x: tqdm(x, leave = False))"
   ]
  },
  {
   "cell_type": "code",
   "execution_count": 9,
   "metadata": {},
   "outputs": [],
   "source": [
    "statmodel = ut.define_model(y)"
   ]
  },
  {
   "cell_type": "code",
   "execution_count": 10,
   "metadata": {},
   "outputs": [],
   "source": [
    "sample_size = np.arange(10, X.shape[0], 5)\n",
    "sample_size = np.arange(10, 500, 5)"
   ]
  },
  {
   "cell_type": "code",
   "execution_count": 11,
   "metadata": {},
   "outputs": [
    {
     "name": "stderr",
     "output_type": "stream",
     "text": [
      "/Library/Frameworks/Python.framework/Versions/3.6/lib/python3.6/site-packages/ipykernel_launcher.py:3: TqdmDeprecationWarning: This function will be removed in tqdm==5.0.0\n",
      "Please use `tqdm.notebook.tqdm` instead of `tqdm.tqdm_notebook`\n",
      "  This is separate from the ipykernel package so we can avoid doing imports until\n"
     ]
    },
    {
     "data": {
      "application/vnd.jupyter.widget-view+json": {
       "model_id": "256b218a60d44152b162fb47dd0fb7c7",
       "version_major": 2,
       "version_minor": 0
      },
      "text/plain": [
       "HBox(children=(FloatProgress(value=0.0, max=98.0), HTML(value='')))"
      ]
     },
     "metadata": {},
     "output_type": "display_data"
    },
    {
     "name": "stdout",
     "output_type": "stream",
     "text": [
      "\n"
     ]
    }
   ],
   "source": [
    "List_of_E = []\n",
    "\n",
    "for m in tqdm(sample_size):\n",
    "    listt = []\n",
    "    for _ in range(100):\n",
    "        X_m, y_m = ut.get_subset(X, y, m)\n",
    "        model = statmodel(y_m, X_m)\n",
    "        w_hat = ut.get_params(X_m, y_m)\n",
    "        listt.append(model.covariance(w_hat))\n",
    "    List_of_E.append(np.diagonal(np.mean(listt, axis = 0)))\n",
    "    \n",
    "List_of_E = np.asarray(List_of_E)"
   ]
  },
  {
   "cell_type": "code",
   "execution_count": 12,
   "metadata": {},
   "outputs": [],
   "source": [
    "M = 200\n",
    "X_M, y_M = ut.get_subset(X, y, M, duplications=False)\n",
    "w_hat = ut.get_params(X_M, y_M)"
   ]
  },
  {
   "cell_type": "code",
   "execution_count": 13,
   "metadata": {},
   "outputs": [
    {
     "name": "stderr",
     "output_type": "stream",
     "text": [
      "/Library/Frameworks/Python.framework/Versions/3.6/lib/python3.6/site-packages/ipykernel_launcher.py:3: TqdmDeprecationWarning: This function will be removed in tqdm==5.0.0\n",
      "Please use `tqdm.notebook.tqdm` instead of `tqdm.tqdm_notebook`\n",
      "  This is separate from the ipykernel package so we can avoid doing imports until\n"
     ]
    },
    {
     "data": {
      "application/vnd.jupyter.widget-view+json": {
       "model_id": "ac54a7bd936745c18bf261e0ac0d0a22",
       "version_major": 2,
       "version_minor": 0
      },
      "text/plain": [
       "HBox(children=(FloatProgress(value=0.0, max=1000.0), HTML(value='')))"
      ]
     },
     "metadata": {},
     "output_type": "display_data"
    },
    {
     "name": "stdout",
     "output_type": "stream",
     "text": [
      "\n"
     ]
    }
   ],
   "source": [
    "List_of_answ = []\n",
    "\n",
    "for i in tqdm(range(1000)):\n",
    "    X_m, y_m = ut.get_subset(X_M, y_M, M//2, duplications=False)\n",
    "    model = statmodel(y_m, X_m)\n",
    "    w_hat = ut.get_params(X_m, y_m)\n",
    "    List_of_answ.append(-model.hessian_fixed(w_hat)/X_m.shape[0])\n",
    "\n",
    "List_of_answ = np.asarray(List_of_answ)\n"
   ]
  },
  {
   "cell_type": "code",
   "execution_count": 14,
   "metadata": {},
   "outputs": [],
   "source": [
    "approx = np.diagonal(np.linalg.inv(np.mean(List_of_answ, axis = 0)))\n",
    "\n",
    "i_matrix = np.linalg.inv(np.mean(List_of_answ, axis = 0))"
   ]
  },
  {
   "cell_type": "code",
   "execution_count": 15,
   "metadata": {
    "scrolled": true
   },
   "outputs": [
    {
     "data": {
      "text/plain": [
       "array([1.03052085, 1.30681911, 2.30828735, 1.41989758, 3.46021023,\n",
       "       1.76144229, 3.23880287, 7.01391536, 7.70932699, 1.98662069,\n",
       "       1.85812569, 2.73004251])"
      ]
     },
     "execution_count": 15,
     "metadata": {},
     "output_type": "execute_result"
    }
   ],
   "source": [
    "approx"
   ]
  },
  {
   "cell_type": "code",
   "execution_count": null,
   "metadata": {},
   "outputs": [],
   "source": [
    "r = 30\n",
    "k = 4\n",
    "res = approx[k]/sample_size\n",
    "\n",
    "plt.plot(sample_size[r:], List_of_E[r:, k])\n",
    "\n",
    "plt.plot(sample_size[r:], res[r:])"
   ]
  },
  {
   "cell_type": "code",
   "execution_count": null,
   "metadata": {},
   "outputs": [],
   "source": [
    "def aDistribution(cov, alpha=0.05):\n",
    "    \n",
    "    W = sps.multivariate_normal(mean=np.zeros(cov.shape[0]), cov = cov).rvs(size=1000)\n",
    "\n",
    "    function = lambda r: (((W**2).sum(axis=1) > r**2).mean() - alpha)**2\n",
    "\n",
    "    res = minimize_scalar(function, method='Golden')['x']\n",
    "    return res"
   ]
  },
  {
   "cell_type": "code",
   "execution_count": null,
   "metadata": {},
   "outputs": [],
   "source": [
    "list_of_r = []\n",
    "\n",
    "sample_sizes = np.arange(10, 5000, 5)\n",
    "\n",
    "for m in tqdm(sample_sizes):\n",
    "    list_of_r.append(aDistribution(i_matrix/m))\n",
    "    \n",
    "list_of_r = np.asarray(list_of_r)"
   ]
  },
  {
   "cell_type": "code",
   "execution_count": null,
   "metadata": {},
   "outputs": [],
   "source": [
    "r = 10\n",
    "\n",
    "plt.plot(real_data['m'][r:], real_data['E'][r:])\n",
    "\n",
    "plt.plot(sample_sizes[r:], list_of_r[r:])"
   ]
  },
  {
   "cell_type": "code",
   "execution_count": null,
   "metadata": {},
   "outputs": [],
   "source": [
    "sample_sizes[np.where(list_of_r < 0.25)][0]"
   ]
  },
  {
   "cell_type": "code",
   "execution_count": null,
   "metadata": {},
   "outputs": [],
   "source": []
  }
 ],
 "metadata": {
  "kernelspec": {
   "display_name": "Python 3",
   "language": "python",
   "name": "python3"
  },
  "language_info": {
   "codemirror_mode": {
    "name": "ipython",
    "version": 3
   },
   "file_extension": ".py",
   "mimetype": "text/x-python",
   "name": "python",
   "nbconvert_exporter": "python",
   "pygments_lexer": "ipython3",
   "version": "3.6.2"
  }
 },
 "nbformat": 4,
 "nbformat_minor": 2
}
