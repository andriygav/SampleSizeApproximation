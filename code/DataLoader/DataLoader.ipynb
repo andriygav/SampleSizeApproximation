{
 "cells": [
  {
   "cell_type": "code",
   "execution_count": 1,
   "metadata": {},
   "outputs": [],
   "source": [
    "import numpy as np\n",
    "\n",
    "import pandas as pd\n",
    "\n",
    "\n",
    "from DataLoader import DataLoader\n",
    "from DataLoader import LoadData"
   ]
  },
  {
   "cell_type": "code",
   "execution_count": 2,
   "metadata": {},
   "outputs": [
    {
     "name": "stdout",
     "output_type": "stream",
     "text": [
      "(506, 13) (506,)\n",
      "(167, 4) (167,)\n",
      "(130, 13) (130,)\n",
      "(442, 10) (442,)\n",
      "(100, 4) (100,)\n",
      "(517, 12) (517,)\n"
     ]
    }
   ],
   "source": [
    "list_name = [\"boston\", \"servo\", \"wine\", \"diabetes\", \"iris\", \"forestfires\"]\n",
    "\n",
    "for name in list_name:\n",
    "    X, y = DataLoader(name = name)\n",
    "    print(X.shape, y.shape)"
   ]
  }
 ],
 "metadata": {
  "kernelspec": {
   "display_name": "Python 3",
   "language": "python",
   "name": "python3"
  },
  "language_info": {
   "codemirror_mode": {
    "name": "ipython",
    "version": 3
   },
   "file_extension": ".py",
   "mimetype": "text/x-python",
   "name": "python",
   "nbconvert_exporter": "python",
   "pygments_lexer": "ipython3",
   "version": "3.6.2"
  }
 },
 "nbformat": 4,
 "nbformat_minor": 2
}
