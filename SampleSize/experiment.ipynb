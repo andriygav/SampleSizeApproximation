{
 "cells": [
  {
   "cell_type": "code",
   "execution_count": 1,
   "metadata": {},
   "outputs": [],
   "source": [
    "import numpy as np\n",
    "import pandas as pd\n",
    "import scipy.stats as sps\n",
    "import matplotlib.pyplot as plt\n",
    "from scipy.optimize import minimize_scalar\n",
    "from statsmodels.discrete.discrete_model import Logit\n",
    "from statsmodels.regression.linear_model import OLS\n",
    "from scipy.special import expit\n",
    "from sklearn.preprocessing import StandardScaler, scale\n",
    "from sklearn.metrics import f1_score, mean_absolute_error\n",
    "from sklearn.model_selection import train_test_split\n",
    "from sklearn.utils import shuffle\n",
    "from sklearn.preprocessing import scale\n",
    "import utils as ut\n",
    "import os\n",
    "import m_models as mm\n",
    "from tqdm import tqdm_notebook as tqdm\n",
    "\n",
    "import statsmodels.api as sm\n",
    "\n",
    "from sklearn.metrics import roc_auc_score as roc_auc_score\n",
    "\n",
    "%load_ext autoreload\n",
    "%autoreload 2"
   ]
  },
  {
   "cell_type": "code",
   "execution_count": 2,
   "metadata": {},
   "outputs": [],
   "source": [
    "plt.rcParams['lines.linewidth'] = 3\n",
    "plt.rcParams['lines.markersize'] = 12\n",
    "plt.rcParams['xtick.labelsize'] = 24\n",
    "plt.rcParams['ytick.labelsize'] = 24\n",
    "plt.rcParams['legend.fontsize'] = 40\n",
    "plt.rcParams['axes.titlesize']=36\n",
    "plt.rcParams['axes.labelsize']=24\n",
    "plt.rcParams['figure.figsize'] = (24.0, 12.0)\n",
    "plt.rcParams['font.size'] = 40"
   ]
  },
  {
   "cell_type": "code",
   "execution_count": 3,
   "metadata": {},
   "outputs": [],
   "source": [
    "dataset_name = 'boston'"
   ]
  },
  {
   "cell_type": "code",
   "execution_count": 4,
   "metadata": {},
   "outputs": [],
   "source": [
    "X, y = ut.DataLoader(name = dataset_name)\n",
    "X = scale(X)\n",
    "y = scale(y)\n",
    "X = sm.add_constant(X)"
   ]
  },
  {
   "cell_type": "code",
   "execution_count": 5,
   "metadata": {},
   "outputs": [
    {
     "name": "stdout",
     "output_type": "stream",
     "text": [
      "(506, 14)\n"
     ]
    }
   ],
   "source": [
    "print(X.shape)"
   ]
  },
  {
   "cell_type": "code",
   "execution_count": 6,
   "metadata": {},
   "outputs": [],
   "source": [
    "backup_folder = \"backup/\"\n",
    "if os.path.exists(backup_folder) == False:\n",
    "    os.mkdir(backup_folder)"
   ]
  },
  {
   "cell_type": "code",
   "execution_count": 7,
   "metadata": {},
   "outputs": [],
   "source": [
    "datasets = []\n",
    "sample_sizes = [28, 50]\n",
    "# sample_sizes = np.linspace(2*X.shape[1], X.shape[0] - 1, num = 100, dtype=np.int64)"
   ]
  },
  {
   "cell_type": "code",
   "execution_count": 8,
   "metadata": {},
   "outputs": [],
   "source": [
    "name = dataset_name\n",
    "data = {'name': name,\n",
    "        'X': np.array(X),\n",
    "        'y': np.array(y),\n",
    "        'folder_path': backup_folder+name+\"/\",\n",
    "        'backup': { \n",
    "#                     'likelihood': [True, \"likelihood.p\"],\n",
    "#                     'cross_val': [True, \"cross_val.p\"],\n",
    "#                     'lagrange': [True, \"lagrange.p\"],\n",
    "#                     'likelihood_ratio': [True, \"likelihood_ratio.p\"],\n",
    "#                     'wald': [True, \"wald.p\"],\n",
    "#                     'apvc': [False, \"apvc.p\"],\n",
    "#                     'acc': [True, \"acc.p\"],\n",
    "#                     'alc': [True, \"alc.p\"],\n",
    "#                     'use': [True, \"use.p\"],\n",
    "                   },\n",
    "        'sample_sizes': np.array(sample_sizes),\n",
    "        'methods': { \n",
    "#                      'likelihood': lambda X, y, sample_sizes:  ut.get_error_track(X, y, sample_sizes=sample_sizes, k_for_meaning=1000, progress_bar=lambda x: tqdm(x, leave = False))\n",
    "#                      'cross_val': lambda X, y: mm.cross_val(X, y, k_for_meaning=10),\n",
    "#                      'lagrange': lambda X, y: mm.lagrange(X, y),\n",
    "#                      'likelihood_ratio': lambda X, y: mm.likelihood_ratio(X, y),\n",
    "#                      'wald': lambda X, y: mm.wald(X, y, ind = 2),\n",
    "#                      'apvc': lambda X, y: mm.APVC(X, y, k_for_meaning=100, num = 50, progress_bar=lambda x: tqdm(x, leave = False)),\n",
    "#                      'acc': lambda X, y: mm.ACC(X, y, k_for_meaning=10, maxiter=10, end = 700),\n",
    "#                      'alc': lambda X, y: mm.ALC(X, y, k_for_meaning=10, maxiter=10, end = 700),\n",
    "#                      'use': lambda X, y: mm.MAX_U(X, y, k_for_meaning=10, progress_bar=lambda x: tqdm(x, leave = False)),\n",
    "                    },\n",
    "}\n",
    "\n",
    "datasets.append(data)"
   ]
  },
  {
   "cell_type": "code",
   "execution_count": 9,
   "metadata": {},
   "outputs": [
    {
     "name": "stdout",
     "output_type": "stream",
     "text": [
      "Dataset boston begining:\n"
     ]
    }
   ],
   "source": [
    "answers = ut.experiment_for_datasets(datasets, k_for_meaning = 10, test_train_proportional = 0.25, progress_bar=lambda x: tqdm(x, leave = False))\n"
   ]
  },
  {
   "cell_type": "code",
   "execution_count": null,
   "metadata": {},
   "outputs": [],
   "source": []
  }
 ],
 "metadata": {
  "kernelspec": {
   "display_name": "Python 3",
   "language": "python",
   "name": "python3"
  },
  "language_info": {
   "codemirror_mode": {
    "name": "ipython",
    "version": 3
   },
   "file_extension": ".py",
   "mimetype": "text/x-python",
   "name": "python",
   "nbconvert_exporter": "python",
   "pygments_lexer": "ipython3",
   "version": "3.6.2"
  }
 },
 "nbformat": 4,
 "nbformat_minor": 2
}
